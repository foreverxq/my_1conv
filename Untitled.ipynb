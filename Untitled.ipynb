{
 "cells": [
  {
   "cell_type": "code",
   "execution_count": 4,
   "metadata": {},
   "outputs": [
    {
     "name": "stdout",
     "output_type": "stream",
     "text": [
      "['D:\\\\Anaconda\\\\envs\\\\torch\\\\python36.zip', 'D:\\\\Anaconda\\\\envs\\\\torch\\\\DLLs', 'D:\\\\Anaconda\\\\envs\\\\torch\\\\lib', 'D:\\\\Anaconda\\\\envs\\\\torch', '', 'D:\\\\Anaconda\\\\envs\\\\torch\\\\lib\\\\site-packages', 'D:\\\\Anaconda\\\\envs\\\\torch\\\\lib\\\\site-packages\\\\win32', 'D:\\\\Anaconda\\\\envs\\\\torch\\\\lib\\\\site-packages\\\\win32\\\\lib', 'D:\\\\Anaconda\\\\envs\\\\torch\\\\lib\\\\site-packages\\\\Pythonwin', 'D:\\\\Anaconda\\\\envs\\\\torch\\\\lib\\\\site-packages\\\\IPython\\\\extensions', 'C:\\\\Users\\\\华为\\\\.ipython']\n",
      "hhahahah\n"
     ]
    }
   ],
   "source": [
    "import sys\n",
    "import trys\n",
    "print(sys.path)\n",
    "\n",
    "trys.fun()\n"
   ]
  },
  {
   "cell_type": "code",
   "execution_count": null,
   "metadata": {},
   "outputs": [],
   "source": []
  },
  {
   "cell_type": "code",
   "execution_count": null,
   "metadata": {},
   "outputs": [],
   "source": []
  }
 ],
 "metadata": {
  "kernelspec": {
   "display_name": "Python 3",
   "language": "python",
   "name": "python3"
  },
  "language_info": {
   "codemirror_mode": {
    "name": "ipython",
    "version": 3
   },
   "file_extension": ".py",
   "mimetype": "text/x-python",
   "name": "python",
   "nbconvert_exporter": "python",
   "pygments_lexer": "ipython3",
   "version": "3.6.12"
  }
 },
 "nbformat": 4,
 "nbformat_minor": 4
}
